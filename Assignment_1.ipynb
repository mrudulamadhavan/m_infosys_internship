{
  "nbformat": 4,
  "nbformat_minor": 0,
  "metadata": {
    "colab": {
      "provenance": []
    },
    "kernelspec": {
      "name": "python3",
      "display_name": "Python 3"
    },
    "language_info": {
      "name": "python"
    }
  },
  "cells": [
    {
      "cell_type": "markdown",
      "source": [
        "# **Python Methods**\n",
        "\n",
        "#### **> enumerate():**\n",
        "- A built-in function in Python that adds a counter to an iterable (such as a list) and returns it as an enumerate object. This function makes it easy to iterate over both the elements and their indices.\n"
      ],
      "metadata": {
        "id": "SULdiEb-nTKz"
      }
    },
    {
      "cell_type": "code",
      "source": [
        "fruits = ['apple', 'banana', 'orange']\n",
        "\n",
        "for index, fruit in enumerate(fruits):\n",
        "    print(f\"Index {index}: {fruit}\")"
      ],
      "metadata": {
        "colab": {
          "base_uri": "https://localhost:8080/"
        },
        "id": "2qYNfyJNn3mL",
        "outputId": "1e7a71e8-b7b4-4f0e-cfe8-64e7b0d5bea5"
      },
      "execution_count": null,
      "outputs": [
        {
          "output_type": "stream",
          "name": "stdout",
          "text": [
            "Index 0: apple\n",
            "Index 1: banana\n",
            "Index 2: orange\n"
          ]
        }
      ]
    },
    {
      "cell_type": "markdown",
      "source": [
        "#### **> reduce():**\n",
        "-  A function in Python that applies a binary function (a function taking two arguments) cumulatively to the items of an iterable, reducing it to a single value."
      ],
      "metadata": {
        "id": "Ez0PLQ2fnlDC"
      }
    },
    {
      "cell_type": "code",
      "source": [
        "from functools import reduce\n",
        "\n",
        "numbers = [1, 2, 3, 4, 5]\n",
        "\n",
        "# Sum of all elements in the list using reduce\n",
        "sum_result = reduce(lambda x, y: x + y, numbers)\n",
        "print('Numbers :',numbers)\n",
        "print(' Sum : ',sum_result)"
      ],
      "metadata": {
        "colab": {
          "base_uri": "https://localhost:8080/"
        },
        "id": "DndGlVGJnoCc",
        "outputId": "cd771995-6e6f-4444-f7b1-ecef997b865e"
      },
      "execution_count": null,
      "outputs": [
        {
          "output_type": "stream",
          "name": "stdout",
          "text": [
            "Numbers : [1, 2, 3, 4, 5]\n",
            " Sum :  15\n"
          ]
        }
      ]
    },
    {
      "cell_type": "markdown",
      "source": [
        "#### **> map():**\n",
        "- A function in Python that applies a given function to all the items in an iterable (list, tuple, etc.) and returns an iterator."
      ],
      "metadata": {
        "id": "0xKgW4zOno_U"
      }
    },
    {
      "cell_type": "code",
      "source": [
        "numbers = [1, 2, 3, 4, 5]\n",
        "\n",
        "# Square each element in the list using map\n",
        "squared_numbers = map(lambda x: x**2, numbers)\n",
        "print('Numbers :',numbers)\n",
        "print('Squares :',list(squared_numbers))"
      ],
      "metadata": {
        "colab": {
          "base_uri": "https://localhost:8080/"
        },
        "id": "EZIxv5vcnrTt",
        "outputId": "2b392e84-374a-4380-ffb0-5e1c36bbefbc"
      },
      "execution_count": null,
      "outputs": [
        {
          "output_type": "stream",
          "name": "stdout",
          "text": [
            "Numbers : [1, 2, 3, 4, 5]\n",
            "Squares : [1, 4, 9, 16, 25]\n"
          ]
        }
      ]
    },
    {
      "cell_type": "markdown",
      "source": [
        "#### **> filter():**\n",
        "-  A function in Python that constructs an iterator from elements of an iterable for which a function returns True."
      ],
      "metadata": {
        "id": "3iHOV7ienrrw"
      }
    },
    {
      "cell_type": "code",
      "source": [
        "numbers = [1, 2, 3, 4, 5, 6, 7, 8, 9, 10]\n",
        "\n",
        "# Filter even numbers using filter\n",
        "even_numbers = filter(lambda x: x % 2 == 0, numbers)\n",
        "print('Numbers :',numbers)\n",
        "print('Even Numbers :',list(even_numbers))"
      ],
      "metadata": {
        "colab": {
          "base_uri": "https://localhost:8080/"
        },
        "id": "BTzFNryRnvI-",
        "outputId": "2d8ae957-f855-4f25-8969-1588a242d880"
      },
      "execution_count": null,
      "outputs": [
        {
          "output_type": "stream",
          "name": "stdout",
          "text": [
            "Numbers : [1, 2, 3, 4, 5, 6, 7, 8, 9, 10]\n",
            "Even Numbers : [2, 4, 6, 8, 10]\n"
          ]
        }
      ]
    },
    {
      "cell_type": "markdown",
      "source": [
        "#### **> zip():**\n",
        "- A function in Python that aggregates elements from two or more iterables, creating an iterator of tuples."
      ],
      "metadata": {
        "id": "qsadc5kJnvjo"
      }
    },
    {
      "cell_type": "code",
      "source": [
        "names = ['Alice', 'Bob', 'Charlie']\n",
        "ages = [25, 30, 22]\n",
        "\n",
        "# Combine names and ages using zip\n",
        "combined_data = zip(names, ages)\n",
        "print(list(combined_data))\n"
      ],
      "metadata": {
        "colab": {
          "base_uri": "https://localhost:8080/"
        },
        "id": "1fUxL0h2nyrM",
        "outputId": "2b36b75a-7854-4daf-8ed0-ad9349d302fe"
      },
      "execution_count": null,
      "outputs": [
        {
          "output_type": "stream",
          "name": "stdout",
          "text": [
            "[('Alice', 25), ('Bob', 30), ('Charlie', 22)]\n"
          ]
        }
      ]
    },
    {
      "cell_type": "markdown",
      "source": [
        "#### **> id():**\n",
        "-  A built-in function in Python that returns the identity of an object. This identity is unique and constant for the object during its lifetime."
      ],
      "metadata": {
        "id": "VhPN2yqEnzGs"
      }
    },
    {
      "cell_type": "code",
      "source": [
        "x = 5\n",
        "y = x\n",
        "\n",
        "# Check if x and y refer to the same object\n",
        "print(id(x) == id(y))"
      ],
      "metadata": {
        "colab": {
          "base_uri": "https://localhost:8080/"
        },
        "id": "8r4qtOyOn10d",
        "outputId": "9efaf8a8-d1cf-459b-b5bc-04d372e02b6e"
      },
      "execution_count": null,
      "outputs": [
        {
          "output_type": "stream",
          "name": "stdout",
          "text": [
            "True\n"
          ]
        }
      ]
    }
  ]
}